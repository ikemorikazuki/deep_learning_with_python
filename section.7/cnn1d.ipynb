{
 "cells": [
  {
   "cell_type": "code",
   "execution_count": 13,
   "metadata": {},
   "outputs": [],
   "source": [
    "from tensorflow.keras.datasets import imdb\n",
    "import tensorflow.keras as tf\n",
    "from tensorflow.keras.models import Sequential\n",
    "from tensorflow.keras.optimizers import RMSprop\n",
    "from tensorflow.keras.layers import Embedding, Dense, Conv1D, MaxPooling1D, GlobalMaxPooling1D\n",
    "from tensorflow.keras.preprocessing.text import Tokenizer\n",
    "from tensorflow.keras.preprocessing import sequence\n",
    "from tensorflow.keras.preprocessing.sequence import pad_sequences\n",
    "import numpy as np\n",
    "import matplotlib.pyplot as plt\n",
    "%matplotlib inline\n",
    "import os\n",
    "os.environ['KMP_DUPLICATE_LIB_OK']='True'"
   ]
  },
  {
   "cell_type": "code",
   "execution_count": 14,
   "metadata": {},
   "outputs": [
    {
     "name": "stdout",
     "output_type": "stream",
     "text": [
      "Loading data...\n",
      "25000 train_sequences\n",
      "25000 test sequences\n",
      "Pad sequneces (sampple x times)\n",
      "input_train shape:  (25000, 500)\n",
      "input_test shape:  (25000, 500)\n"
     ]
    }
   ],
   "source": [
    "# IMDbデータの前処理\n",
    "max_features = 10000\n",
    "max_len = 500\n",
    "batch_size = 128\n",
    "\n",
    "print('Loading data...')\n",
    "(x_train, y_train), (x_test, y_test) = imdb.load_data(num_words=max_features)\n",
    "print(len(x_train), 'train_sequences')\n",
    "print(len(x_test), 'test sequences')\n",
    "\n",
    "print('Pad sequneces (sampple x times)')\n",
    "x_train = sequence.pad_sequences(x_train, maxlen=max_len)\n",
    "x_test = sequence.pad_sequences(x_test, maxlen=max_len)\n",
    "print('input_train shape: ', x_train.shape)\n",
    "print('input_test shape: ', x_test.shape)"
   ]
  },
  {
   "cell_type": "code",
   "execution_count": 15,
   "metadata": {},
   "outputs": [
    {
     "name": "stdout",
     "output_type": "stream",
     "text": [
      "Model: \"sequential_3\"\n",
      "_________________________________________________________________\n",
      "Layer (type)                 Output Shape              Param #   \n",
      "=================================================================\n",
      "embed (Embedding)            (None, 500, 128)          1280000   \n",
      "_________________________________________________________________\n",
      "conv1d_6 (Conv1D)            (None, 494, 32)           28704     \n",
      "_________________________________________________________________\n",
      "max_pooling1d_3 (MaxPooling1 (None, 98, 32)            0         \n",
      "_________________________________________________________________\n",
      "conv1d_7 (Conv1D)            (None, 92, 32)            7200      \n",
      "_________________________________________________________________\n",
      "global_max_pooling1d_3 (Glob (None, 32)                0         \n",
      "_________________________________________________________________\n",
      "dense_3 (Dense)              (None, 1)                 33        \n",
      "=================================================================\n",
      "Total params: 1,315,937\n",
      "Trainable params: 1,315,937\n",
      "Non-trainable params: 0\n",
      "_________________________________________________________________\n"
     ]
    }
   ],
   "source": [
    "# ImMDbデータセットでの単純な１次元CNNの訓練と評価\n",
    "\n",
    "model = Sequential()\n",
    "model.add(Embedding(max_features, 128, input_length=max_len, name=\"embed\"))\n",
    "model.add(Conv1D(32, 7, activation='relu'))\n",
    "model.add(MaxPooling1D(5))\n",
    "model.add(Conv1D(32, 7, activation='relu'))\n",
    "model.add(GlobalMaxPooling1D())\n",
    "model.add(Dense(1))\n",
    "\n",
    "model.summary()\n",
    "\n",
    "model.compile(optimizer=RMSprop(lr=1e-4),\n",
    "             loss='binary_crossentropy',\n",
    "             metrics=['acc'])"
   ]
  },
  {
   "cell_type": "code",
   "execution_count": null,
   "metadata": {},
   "outputs": [
    {
     "name": "stdout",
     "output_type": "stream",
     "text": [
      "Train on 20000 samples, validate on 5000 samples\n",
      "Epoch 1/20\n",
      "20000/20000 [==============================] - 81s 4ms/sample - loss: 0.8792 - acc: 0.5139 - val_loss: 0.6856 - val_acc: 0.5668\n",
      "Epoch 2/20\n",
      "20000/20000 [==============================] - 79s 4ms/sample - loss: 0.6701 - acc: 0.6441 - val_loss: 0.6664 - val_acc: 0.6382\n",
      "Epoch 3/20\n",
      "20000/20000 [==============================] - 80s 4ms/sample - loss: 0.6284 - acc: 0.7429 - val_loss: 0.6170 - val_acc: 0.7248\n",
      "Epoch 4/20\n",
      "20000/20000 [==============================] - 81s 4ms/sample - loss: 0.5419 - acc: 0.8011 - val_loss: 0.5140 - val_acc: 0.7572\n",
      "Epoch 5/20\n",
      "20000/20000 [==============================] - 75s 4ms/sample - loss: 0.4185 - acc: 0.8443 - val_loss: 0.4221 - val_acc: 0.8360\n",
      "Epoch 6/20\n",
      "20000/20000 [==============================] - 72s 4ms/sample - loss: 0.3470 - acc: 0.8729 - val_loss: 0.4270 - val_acc: 0.8404\n",
      "Epoch 7/20\n",
      "20000/20000 [==============================] - 70s 3ms/sample - loss: 0.3040 - acc: 0.8921 - val_loss: 0.4133 - val_acc: 0.8524\n",
      "Epoch 8/20\n",
      "20000/20000 [==============================] - 71s 4ms/sample - loss: 0.2740 - acc: 0.9067 - val_loss: 0.4025 - val_acc: 0.8642\n",
      "Epoch 9/20\n",
      "20000/20000 [==============================] - 70s 3ms/sample - loss: 0.2457 - acc: 0.9167 - val_loss: 0.4173 - val_acc: 0.8692\n",
      "Epoch 10/20\n",
      "20000/20000 [==============================] - 75s 4ms/sample - loss: 0.2217 - acc: 0.9274 - val_loss: 0.4656 - val_acc: 0.8694\n",
      "Epoch 11/20\n",
      "20000/20000 [==============================] - 78s 4ms/sample - loss: 0.2020 - acc: 0.9342 - val_loss: 0.4705 - val_acc: 0.8710\n",
      "Epoch 12/20\n",
      "20000/20000 [==============================] - 82s 4ms/sample - loss: 0.1847 - acc: 0.9438 - val_loss: 0.4949 - val_acc: 0.8732\n",
      "Epoch 13/20\n",
      "20000/20000 [==============================] - 75s 4ms/sample - loss: 0.1670 - acc: 0.9499 - val_loss: 0.5196 - val_acc: 0.8732\n",
      "Epoch 14/20\n",
      "20000/20000 [==============================] - 77s 4ms/sample - loss: 0.1518 - acc: 0.9564 - val_loss: 0.6125 - val_acc: 0.8688\n",
      "Epoch 15/20\n",
      "20000/20000 [==============================] - 76s 4ms/sample - loss: 0.1381 - acc: 0.9621 - val_loss: 0.6681 - val_acc: 0.8632\n",
      "Epoch 16/20\n",
      "20000/20000 [==============================] - 73s 4ms/sample - loss: 0.1256 - acc: 0.9675 - val_loss: 0.6079 - val_acc: 0.8716\n",
      "Epoch 17/20\n",
      "20000/20000 [==============================] - 74s 4ms/sample - loss: 0.1146 - acc: 0.9722 - val_loss: 0.6655 - val_acc: 0.8662\n",
      "Epoch 18/20\n",
      "20000/20000 [==============================] - 83s 4ms/sample - loss: 0.1048 - acc: 0.9769 - val_loss: 0.6589 - val_acc: 0.8718\n",
      "Epoch 19/20\n",
      "20000/20000 [==============================] - 74s 4ms/sample - loss: 0.0962 - acc: 0.9812 - val_loss: 0.6906 - val_acc: 0.8696\n",
      "Epoch 20/20\n",
      "14976/20000 [=====================>........] - ETA: 16s - loss: 0.0851 - acc: 0.9856"
     ]
    }
   ],
   "source": [
    "# TensorBoardのコールバックを使ってモデルを訓練\n",
    "callbacks = [\n",
    "    tf.callbacks.TensorBoard(\n",
    "        log_dir='my_log_dir',\n",
    "        histogram_freq=1,\n",
    "        embeddings_freq=1\n",
    "    )\n",
    "]\n",
    "history = model.fit(x_train, y_train,\n",
    "                   epochs=20,\n",
    "                   batch_size=128,\n",
    "                   validation_split=0.2,\n",
    "                   callbacks=callbacks)"
   ]
  },
  {
   "cell_type": "code",
   "execution_count": null,
   "metadata": {},
   "outputs": [],
   "source": []
  }
 ],
 "metadata": {
  "file_extension": ".py",
  "kernelspec": {
   "display_name": "Python 3.7.5 64-bit ('alphago': conda)",
   "language": "python",
   "name": "python37564bitalphagocondab5db145d4df74371a4045b800489042b"
  },
  "language_info": {
   "codemirror_mode": {
    "name": "ipython",
    "version": 3
   },
   "file_extension": ".py",
   "mimetype": "text/x-python",
   "name": "python",
   "nbconvert_exporter": "python",
   "pygments_lexer": "ipython3",
   "version": "3.7.5"
  },
  "mimetype": "text/x-python",
  "name": "python",
  "npconvert_exporter": "python",
  "pygments_lexer": "ipython3",
  "version": 3
 },
 "nbformat": 4,
 "nbformat_minor": 2
}
