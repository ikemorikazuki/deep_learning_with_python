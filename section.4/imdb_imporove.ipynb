{
 "cells": [
  {
   "cell_type": "code",
   "execution_count": 3,
   "metadata": {},
   "outputs": [],
   "source": [
    "from tensorflow.keras import models\n",
    "from tensorflow.keras import layers\n",
    "import numpy as np\n",
    "import matplotlib.pyplot as plt\n",
    "%matplotlib inline\n",
    "import os\n",
    "os.environ['KMP_DUPLICATE_LIB_OK']='True'\n",
    "from tensorflow.keras.datasets import imdb"
   ]
  },
  {
   "cell_type": "code",
   "execution_count": 4,
   "metadata": {},
   "outputs": [],
   "source": [
    "# IMDbデータセットの読み込み\n",
    "(train_data, train_labels), (test_data, test_lebels) = imdb.load_data(num_words=10000)"
   ]
  },
  {
   "cell_type": "code",
   "execution_count": 5,
   "metadata": {},
   "outputs": [],
   "source": [
    "def vectorize_sequences(sequences, dimension=10000):\n",
    "    # 形状が(len(sequential, dimension))の行列を作成し，０で埋める\n",
    "    results = np.zeros((len(sequences), dimension))\n",
    "\n",
    "    for i, sequence in enumerate(sequences):\n",
    "        results[i, sequence] = 1.  # resluts[i]のインデックスを１に設定\n",
    "        \n",
    "    return results\n",
    "\n",
    "# 訓練データのベクトル化\n",
    "x_train = vectorize_sequences(train_data)\n",
    "\n",
    "# テストデータのベクトル化\n",
    "x_test = vectorize_sequences(test_data)"
   ]
  },
  {
   "cell_type": "code",
   "execution_count": 6,
   "metadata": {},
   "outputs": [],
   "source": [
    "# ラベルのベクトル化\n",
    "y_train = np.asanyarray(train_labels).astype('float32')\n",
    "y_test = np.asanyarray(test_lebels).astype('float32')"
   ]
  },
  {
   "cell_type": "code",
   "execution_count": 8,
   "metadata": {},
   "outputs": [
    {
     "name": "stdout",
     "output_type": "stream",
     "text": [
      "Train on 15000 samples, validate on 10000 samples\n",
      "Epoch 1/20\n",
      "15000/15000 [==============================] - 5s 348us/sample - loss: 0.5842 - acc: 0.7279 - val_loss: 0.4901 - val_acc: 0.8445\n",
      "Epoch 2/20\n",
      "15000/15000 [==============================] - 2s 125us/sample - loss: 0.4125 - acc: 0.8845 - val_loss: 0.3848 - val_acc: 0.8807\n",
      "Epoch 3/20\n",
      "15000/15000 [==============================] - 2s 115us/sample - loss: 0.3164 - acc: 0.9133 - val_loss: 0.3306 - val_acc: 0.8871\n",
      "Epoch 4/20\n",
      "15000/15000 [==============================] - 2s 124us/sample - loss: 0.2548 - acc: 0.9285 - val_loss: 0.3066 - val_acc: 0.8854\n",
      "Epoch 5/20\n",
      "15000/15000 [==============================] - 2s 120us/sample - loss: 0.2140 - acc: 0.9371 - val_loss: 0.2836 - val_acc: 0.8895\n",
      "Epoch 6/20\n",
      "15000/15000 [==============================] - 2s 116us/sample - loss: 0.1820 - acc: 0.9485 - val_loss: 0.2781 - val_acc: 0.8902\n",
      "Epoch 7/20\n",
      "15000/15000 [==============================] - 2s 112us/sample - loss: 0.1584 - acc: 0.9547 - val_loss: 0.2754 - val_acc: 0.8887\n",
      "Epoch 8/20\n",
      "15000/15000 [==============================] - 2s 114us/sample - loss: 0.1389 - acc: 0.9608 - val_loss: 0.2767 - val_acc: 0.8870\n",
      "Epoch 9/20\n",
      "15000/15000 [==============================] - 2s 126us/sample - loss: 0.1222 - acc: 0.9675 - val_loss: 0.2873 - val_acc: 0.8860\n",
      "Epoch 10/20\n",
      "15000/15000 [==============================] - 2s 119us/sample - loss: 0.1082 - acc: 0.9717 - val_loss: 0.3005 - val_acc: 0.8843\n",
      "Epoch 11/20\n",
      "15000/15000 [==============================] - 2s 127us/sample - loss: 0.0963 - acc: 0.9752 - val_loss: 0.2993 - val_acc: 0.8835\n",
      "Epoch 12/20\n",
      "15000/15000 [==============================] - 2s 117us/sample - loss: 0.0863 - acc: 0.9780 - val_loss: 0.3166 - val_acc: 0.8835\n",
      "Epoch 13/20\n",
      "15000/15000 [==============================] - 2s 113us/sample - loss: 0.0759 - acc: 0.9820 - val_loss: 0.3222 - val_acc: 0.8818\n",
      "Epoch 14/20\n",
      "15000/15000 [==============================] - 2s 124us/sample - loss: 0.0673 - acc: 0.9847 - val_loss: 0.3540 - val_acc: 0.8750\n",
      "Epoch 15/20\n",
      "15000/15000 [==============================] - 2s 112us/sample - loss: 0.0595 - acc: 0.9877 - val_loss: 0.3522 - val_acc: 0.8796\n",
      "Epoch 16/20\n",
      "15000/15000 [==============================] - 2s 110us/sample - loss: 0.0522 - acc: 0.9895 - val_loss: 0.3688 - val_acc: 0.8780\n",
      "Epoch 17/20\n",
      "15000/15000 [==============================] - 2s 132us/sample - loss: 0.0458 - acc: 0.9907 - val_loss: 0.3988 - val_acc: 0.8770\n",
      "Epoch 18/20\n",
      "15000/15000 [==============================] - 2s 111us/sample - loss: 0.0403 - acc: 0.9916 - val_loss: 0.4041 - val_acc: 0.8742\n",
      "Epoch 19/20\n",
      "15000/15000 [==============================] - 2s 114us/sample - loss: 0.0346 - acc: 0.9942 - val_loss: 0.4236 - val_acc: 0.8733\n",
      "Epoch 20/20\n",
      "15000/15000 [==============================] - 2s 137us/sample - loss: 0.0298 - acc: 0.9947 - val_loss: 0.4457 - val_acc: 0.8722\n"
     ]
    }
   ],
   "source": [
    "# モデルの定義\n",
    "# キャパシティが小さいモデル\n",
    "model = models.Sequential()\n",
    "model.add(layers.Dense(4, activation='relu', input_shape=(10000,)))\n",
    "model.add(layers.Dense(4, activation='relu'))\n",
    "model.add(layers.Dense(1, activation='sigmoid'))\n",
    "\n",
    "model.compile(optimizer='rmsprop',\n",
    "              loss='binary_crossentropy',\n",
    "              metrics=['acc'])\n",
    "\n",
    "x_val = x_train[:10000]\n",
    "partial_x_train = x_train[10000:]\n",
    "\n",
    "y_val = y_train[:10000]\n",
    "partial_y_train = y_train[10000:]\n",
    "\n",
    "history = model.fit(partial_x_train,\n",
    "                    partial_y_train,\n",
    "                    epochs=20,\n",
    "                    batch_size=512,\n",
    "                    validation_data=(x_val, y_val))"
   ]
  },
  {
   "cell_type": "code",
   "execution_count": 9,
   "metadata": {},
   "outputs": [
    {
     "data": {
      "image/png": "[encoded data removed]",
      "text/plain": [
       "<Figure size 432x288 with 1 Axes>"
      ]
     },
     "metadata": {
      "needs_background": "light"
     },
     "output_type": "display_data"
    }
   ],
   "source": [
    "# 結果の確認\n",
    "\n",
    "acc = history.history['acc']\n",
    "val_acc = history.history['val_acc']\n",
    "loss = history.history['loss']\n",
    "val_loss = history.history['val_loss']\n",
    "\n",
    "epochs = range(1, len(acc) + 1)\n",
    "\n",
    "# \"bo\" is for \"blue dot\"\n",
    "plt.plot(epochs, loss, 'bo', label='Training loss')\n",
    "# b is for \"solid blue line\"\n",
    "plt.plot(epochs, val_loss, 'b', label='Validation loss')\n",
    "plt.title('Training and validation loss')\n",
    "plt.xlabel('Epochs')\n",
    "plt.ylabel('Loss')\n",
    "plt.legend()\n",
    "\n",
    "plt.show()"
   ]
  },
  {
   "cell_type": "code",
   "execution_count": 10,
   "metadata": {},
   "outputs": [
    {
     "name": "stdout",
     "output_type": "stream",
     "text": [
      "Train on 15000 samples, validate on 10000 samples\n",
      "Epoch 1/20\n",
      "15000/15000 [==============================] - 11s 747us/sample - loss: 0.5654 - acc: 0.7645 - val_loss: 0.3543 - val_acc: 0.8579\n",
      "Epoch 2/20\n",
      "15000/15000 [==============================] - 10s 638us/sample - loss: 0.2544 - acc: 0.8991 - val_loss: 0.2725 - val_acc: 0.8906\n",
      "Epoch 3/20\n",
      "15000/15000 [==============================] - 8s 553us/sample - loss: 0.1459 - acc: 0.9463 - val_loss: 0.3068 - val_acc: 0.8830\n",
      "Epoch 4/20\n",
      "15000/15000 [==============================] - 9s 629us/sample - loss: 0.0782 - acc: 0.9721 - val_loss: 0.3740 - val_acc: 0.8876\n",
      "Epoch 5/20\n",
      "15000/15000 [==============================] - 9s 615us/sample - loss: 0.1052 - acc: 0.9747 - val_loss: 0.3263 - val_acc: 0.8869\n",
      "Epoch 6/20\n",
      "15000/15000 [==============================] - 9s 587us/sample - loss: 0.0049 - acc: 0.9997 - val_loss: 0.5634 - val_acc: 0.8789\n",
      "Epoch 7/20\n",
      "15000/15000 [==============================] - 9s 584us/sample - loss: 6.9899e-04 - acc: 1.0000 - val_loss: 0.6070 - val_acc: 0.8846\n",
      "Epoch 8/20\n",
      "15000/15000 [==============================] - 9s 619us/sample - loss: 1.0317e-04 - acc: 1.0000 - val_loss: 0.7236 - val_acc: 0.8849\n",
      "Epoch 9/20\n",
      "15000/15000 [==============================] - 9s 593us/sample - loss: 1.8331e-05 - acc: 1.0000 - val_loss: 0.8301 - val_acc: 0.8838\n",
      "Epoch 10/20\n",
      "15000/15000 [==============================] - 9s 614us/sample - loss: 3.7631e-06 - acc: 1.0000 - val_loss: 0.9484 - val_acc: 0.8830\n",
      "Epoch 11/20\n",
      "15000/15000 [==============================] - 9s 587us/sample - loss: 9.6788e-07 - acc: 1.0000 - val_loss: 1.0257 - val_acc: 0.8839\n",
      "Epoch 12/20\n",
      "15000/15000 [==============================] - 10s 647us/sample - loss: 3.1206e-07 - acc: 1.0000 - val_loss: 1.1146 - val_acc: 0.8826\n",
      "Epoch 13/20\n",
      "15000/15000 [==============================] - 10s 694us/sample - loss: 1.2118e-07 - acc: 1.0000 - val_loss: 1.1593 - val_acc: 0.8840\n",
      "Epoch 14/20\n",
      "15000/15000 [==============================] - 10s 646us/sample - loss: 5.0931e-08 - acc: 1.0000 - val_loss: 1.2090 - val_acc: 0.8838\n",
      "Epoch 15/20\n",
      "15000/15000 [==============================] - 9s 593us/sample - loss: 2.9427e-08 - acc: 1.0000 - val_loss: 1.2360 - val_acc: 0.8833\n",
      "Epoch 16/20\n",
      "15000/15000 [==============================] - 9s 578us/sample - loss: 2.0062e-08 - acc: 1.0000 - val_loss: 1.2601 - val_acc: 0.8829\n",
      "Epoch 17/20\n",
      "15000/15000 [==============================] - 9s 599us/sample - loss: 1.5350e-08 - acc: 1.0000 - val_loss: 1.2723 - val_acc: 0.8843\n",
      "Epoch 18/20\n",
      "15000/15000 [==============================] - 9s 580us/sample - loss: 1.2407e-08 - acc: 1.0000 - val_loss: 1.2858 - val_acc: 0.8829\n",
      "Epoch 19/20\n",
      "15000/15000 [==============================] - 9s 594us/sample - loss: 1.0465e-08 - acc: 1.0000 - val_loss: 1.2983 - val_acc: 0.8839\n",
      "Epoch 20/20\n",
      "15000/15000 [==============================] - 9s 585us/sample - loss: 9.0319e-09 - acc: 1.0000 - val_loss: 1.3057 - val_acc: 0.8832\n"
     ]
    }
   ],
   "source": [
    "# モデルの定義\n",
    "# キャパシティが大きいモデル\n",
    "model = models.Sequential()\n",
    "model.add(layers.Dense(512, activation='relu', input_shape=(10000,)))\n",
    "model.add(layers.Dense(512, activation='relu'))\n",
    "model.add(layers.Dense(1, activation='sigmoid'))\n",
    "\n",
    "model.compile(optimizer='rmsprop',\n",
    "              loss='binary_crossentropy',\n",
    "              metrics=['acc'])\n",
    "\n",
    "x_val = x_train[:10000]\n",
    "partial_x_train = x_train[10000:]\n",
    "\n",
    "y_val = y_train[:10000]\n",
    "partial_y_train = y_train[10000:]\n",
    "\n",
    "history = model.fit(partial_x_train,\n",
    "                    partial_y_train,\n",
    "                    epochs=20,\n",
    "                    batch_size=512,\n",
    "                    validation_data=(x_val, y_val))"
   ]
  },
  {
   "cell_type": "code",
   "execution_count": 11,
   "metadata": {},
   "outputs": [
    {
     "data": {
      "image/png": "[encoded data removed]",
      "text/plain": [
       "<Figure size 432x288 with 1 Axes>"
      ]
     },
     "metadata": {
      "needs_background": "light"
     },
     "output_type": "display_data"
    }
   ],
   "source": [
    "# 結果の確認\n",
    "plt.clf()\n",
    "acc = history.history['acc']\n",
    "val_acc = history.history['val_acc']\n",
    "loss = history.history['loss']\n",
    "val_loss = history.history['val_loss']\n",
    "\n",
    "epochs = range(1, len(acc) + 1)\n",
    "\n",
    "# \"bo\" is for \"blue dot\"\n",
    "plt.plot(epochs, loss, 'bo', label='Training loss')\n",
    "# b is for \"solid blue line\"\n",
    "plt.plot(epochs, val_loss, 'b', label='Validation loss')\n",
    "plt.title('Training and validation loss')\n",
    "plt.xlabel('Epochs')\n",
    "plt.ylabel('Loss')\n",
    "plt.legend()\n",
    "\n",
    "plt.show()"
   ]
  },
  {
   "cell_type": "code",
   "execution_count": 14,
   "metadata": {},
   "outputs": [
    {
     "name": "stdout",
     "output_type": "stream",
     "text": [
      "Train on 15000 samples, validate on 10000 samples\n",
      "Epoch 1/20\n",
      "15000/15000 [==============================] - 4s 267us/sample - loss: 0.5844 - acc: 0.7793 - val_loss: 0.4613 - val_acc: 0.8589\n",
      "Epoch 2/20\n",
      "15000/15000 [==============================] - 2s 113us/sample - loss: 0.3841 - acc: 0.8965 - val_loss: 0.3757 - val_acc: 0.8779\n",
      "Epoch 3/20\n",
      "15000/15000 [==============================] - 2s 114us/sample - loss: 0.3083 - acc: 0.9137 - val_loss: 0.3383 - val_acc: 0.8899\n",
      "Epoch 4/20\n",
      "15000/15000 [==============================] - 2s 132us/sample - loss: 0.2691 - acc: 0.9273 - val_loss: 0.3282 - val_acc: 0.8904\n",
      "Epoch 5/20\n",
      "15000/15000 [==============================] - 2s 153us/sample - loss: 0.2422 - acc: 0.9371 - val_loss: 0.3284 - val_acc: 0.8865\n",
      "Epoch 6/20\n",
      "15000/15000 [==============================] - 2s 143us/sample - loss: 0.2230 - acc: 0.9459 - val_loss: 0.3296 - val_acc: 0.8865\n",
      "Epoch 7/20\n",
      "15000/15000 [==============================] - 2s 132us/sample - loss: 0.2129 - acc: 0.9487 - val_loss: 0.3329 - val_acc: 0.8854\n",
      "Epoch 8/20\n",
      "15000/15000 [==============================] - 2s 150us/sample - loss: 0.2000 - acc: 0.9544 - val_loss: 0.3499 - val_acc: 0.8796\n",
      "Epoch 9/20\n",
      "15000/15000 [==============================] - 2s 136us/sample - loss: 0.1918 - acc: 0.9549 - val_loss: 0.3642 - val_acc: 0.8784\n",
      "Epoch 10/20\n",
      "15000/15000 [==============================] - 2s 124us/sample - loss: 0.1847 - acc: 0.9600 - val_loss: 0.3594 - val_acc: 0.8820\n",
      "Epoch 11/20\n",
      "15000/15000 [==============================] - 2s 125us/sample - loss: 0.1761 - acc: 0.9630 - val_loss: 0.3572 - val_acc: 0.8811\n",
      "Epoch 12/20\n",
      "15000/15000 [==============================] - 2s 126us/sample - loss: 0.1721 - acc: 0.9648 - val_loss: 0.3673 - val_acc: 0.8794\n",
      "Epoch 13/20\n",
      "15000/15000 [==============================] - 2s 126us/sample - loss: 0.1687 - acc: 0.9661 - val_loss: 0.3927 - val_acc: 0.8716\n",
      "Epoch 14/20\n",
      "15000/15000 [==============================] - 2s 117us/sample - loss: 0.1606 - acc: 0.9681 - val_loss: 0.3920 - val_acc: 0.8771\n",
      "Epoch 15/20\n",
      "15000/15000 [==============================] - 2s 114us/sample - loss: 0.1581 - acc: 0.9693 - val_loss: 0.3864 - val_acc: 0.8775\n",
      "Epoch 16/20\n",
      "15000/15000 [==============================] - 2s 118us/sample - loss: 0.1573 - acc: 0.9692 - val_loss: 0.3965 - val_acc: 0.8766\n",
      "Epoch 17/20\n",
      "15000/15000 [==============================] - 2s 116us/sample - loss: 0.1497 - acc: 0.9731 - val_loss: 0.3982 - val_acc: 0.8749\n",
      "Epoch 18/20\n",
      "15000/15000 [==============================] - 2s 115us/sample - loss: 0.1501 - acc: 0.9718 - val_loss: 0.4062 - val_acc: 0.8747\n",
      "Epoch 19/20\n",
      "15000/15000 [==============================] - 2s 115us/sample - loss: 0.1454 - acc: 0.9739 - val_loss: 0.4357 - val_acc: 0.8697\n",
      "Epoch 20/20\n",
      "15000/15000 [==============================] - 2s 123us/sample - loss: 0.1388 - acc: 0.9779 - val_loss: 0.4173 - val_acc: 0.8757\n"
     ]
    }
   ],
   "source": [
    "# モデルの定義\n",
    "# 正則化項の追加\n",
    "from tensorflow.keras import regularizers\n",
    "model = models.Sequential()\n",
    "model.add(layers.Dense(16, kernel_regularizer=regularizers.l2(0.001), activation='relu', input_shape=(10000,)))\n",
    "model.add(layers.Dense(16, kernel_regularizer=regularizers.l2(0.001),activation='relu'))\n",
    "model.add(layers.Dense(1, activation='sigmoid'))\n",
    "\n",
    "model.compile(optimizer='rmsprop',\n",
    "              loss='binary_crossentropy',\n",
    "              metrics=['acc'])\n",
    "\n",
    "x_val = x_train[:10000]\n",
    "partial_x_train = x_train[10000:]\n",
    "\n",
    "y_val = y_train[:10000]\n",
    "partial_y_train = y_train[10000:]\n",
    "\n",
    "history = model.fit(partial_x_train,\n",
    "                    partial_y_train,\n",
    "                    epochs=20,\n",
    "                    batch_size=512,\n",
    "                    validation_data=(x_val, y_val))"
   ]
  },
  {
   "cell_type": "code",
   "execution_count": 15,
   "metadata": {},
   "outputs": [
    {
     "data": {
      "image/png": "[encoded data removed]",
      "text/plain": [
       "<Figure size 432x288 with 1 Axes>"
      ]
     },
     "metadata": {
      "needs_background": "light"
     },
     "output_type": "display_data"
    }
   ],
   "source": [
    "# 結果の確認\n",
    "plt.clf()\n",
    "acc = history.history['acc']\n",
    "val_acc = history.history['val_acc']\n",
    "loss = history.history['loss']\n",
    "val_loss = history.history['val_loss']\n",
    "\n",
    "epochs = range(1, len(acc) + 1)\n",
    "\n",
    "# \"bo\" is for \"blue dot\"\n",
    "plt.plot(epochs, loss, 'bo', label='Training loss')\n",
    "# b is for \"solid blue line\"\n",
    "plt.plot(epochs, val_loss, 'b', label='Validation loss')\n",
    "plt.title('Training and validation loss')\n",
    "plt.xlabel('Epochs')\n",
    "plt.ylabel('Loss')\n",
    "plt.legend()\n",
    "\n",
    "plt.show()"
   ]
  },
  {
   "cell_type": "code",
   "execution_count": 17,
   "metadata": {},
   "outputs": [
    {
     "name": "stdout",
     "output_type": "stream",
     "text": [
      "Train on 15000 samples, validate on 10000 samples\n",
      "Epoch 1/20\n",
      "15000/15000 [==============================] - 6s 375us/sample - loss: 0.6408 - acc: 0.6389 - val_loss: 0.5263 - val_acc: 0.8398\n",
      "Epoch 2/20\n",
      "15000/15000 [==============================] - 2s 127us/sample - loss: 0.5147 - acc: 0.7655 - val_loss: 0.4186 - val_acc: 0.8697\n",
      "Epoch 3/20\n",
      "15000/15000 [==============================] - 2s 116us/sample - loss: 0.4300 - acc: 0.8302 - val_loss: 0.3705 - val_acc: 0.8752\n",
      "Epoch 4/20\n",
      "15000/15000 [==============================] - 2s 116us/sample - loss: 0.3755 - acc: 0.8666 - val_loss: 0.3254 - val_acc: 0.8823\n",
      "Epoch 5/20\n",
      "15000/15000 [==============================] - 2s 114us/sample - loss: 0.3277 - acc: 0.8950 - val_loss: 0.3038 - val_acc: 0.8836\n",
      "Epoch 6/20\n",
      "15000/15000 [==============================] - 2s 114us/sample - loss: 0.2938 - acc: 0.9107 - val_loss: 0.2941 - val_acc: 0.8883\n",
      "Epoch 7/20\n",
      "15000/15000 [==============================] - 2s 114us/sample - loss: 0.2627 - acc: 0.9221 - val_loss: 0.2949 - val_acc: 0.8880\n",
      "Epoch 8/20\n",
      "15000/15000 [==============================] - 2s 116us/sample - loss: 0.2381 - acc: 0.9306 - val_loss: 0.2986 - val_acc: 0.8845\n",
      "Epoch 9/20\n",
      "15000/15000 [==============================] - 2s 127us/sample - loss: 0.2123 - acc: 0.9404 - val_loss: 0.3120 - val_acc: 0.8848\n",
      "Epoch 10/20\n",
      "15000/15000 [==============================] - 2s 120us/sample - loss: 0.1898 - acc: 0.9476 - val_loss: 0.3253 - val_acc: 0.8841\n",
      "Epoch 11/20\n",
      "15000/15000 [==============================] - 2s 123us/sample - loss: 0.1730 - acc: 0.9531 - val_loss: 0.3542 - val_acc: 0.8833\n",
      "Epoch 12/20\n",
      "15000/15000 [==============================] - 2s 126us/sample - loss: 0.1567 - acc: 0.9557 - val_loss: 0.3986 - val_acc: 0.8825\n",
      "Epoch 13/20\n",
      "15000/15000 [==============================] - 2s 127us/sample - loss: 0.1453 - acc: 0.9583 - val_loss: 0.3832 - val_acc: 0.8812\n",
      "Epoch 14/20\n",
      "15000/15000 [==============================] - 2s 117us/sample - loss: 0.1319 - acc: 0.9635 - val_loss: 0.4257 - val_acc: 0.8825\n",
      "Epoch 15/20\n",
      "15000/15000 [==============================] - 2s 116us/sample - loss: 0.1202 - acc: 0.9668 - val_loss: 0.5078 - val_acc: 0.8784\n",
      "Epoch 16/20\n",
      "15000/15000 [==============================] - 2s 115us/sample - loss: 0.1132 - acc: 0.9695 - val_loss: 0.4472 - val_acc: 0.8789\n",
      "Epoch 17/20\n",
      "15000/15000 [==============================] - 2s 115us/sample - loss: 0.1050 - acc: 0.9697 - val_loss: 0.4873 - val_acc: 0.8787\n",
      "Epoch 18/20\n",
      "15000/15000 [==============================] - 2s 115us/sample - loss: 0.0996 - acc: 0.9726 - val_loss: 0.5442 - val_acc: 0.8805\n",
      "Epoch 19/20\n",
      "15000/15000 [==============================] - 2s 115us/sample - loss: 0.0948 - acc: 0.9753 - val_loss: 0.5795 - val_acc: 0.8779\n",
      "Epoch 20/20\n",
      "15000/15000 [==============================] - 2s 114us/sample - loss: 0.0957 - acc: 0.9742 - val_loss: 0.6547 - val_acc: 0.8774\n"
     ]
    }
   ],
   "source": [
    "# モデルの定義\n",
    "# 正則化項の追加\n",
    "model = models.Sequential()\n",
    "model.add(layers.Dense(16, activation='relu', input_shape=(10000,)))\n",
    "model.add(layers.Dropout(0.5))\n",
    "model.add(layers.Dense(16, activation='relu'))\n",
    "model.add(layers.Dropout(0.5))\n",
    "model.add(layers.Dense(1, activation='sigmoid'))\n",
    "\n",
    "model.compile(optimizer='rmsprop',\n",
    "              loss='binary_crossentropy',\n",
    "              metrics=['acc'])\n",
    "\n",
    "x_val = x_train[:10000]\n",
    "partial_x_train = x_train[10000:]\n",
    "\n",
    "y_val = y_train[:10000]\n",
    "partial_y_train = y_train[10000:]\n",
    "\n",
    "history = model.fit(partial_x_train,\n",
    "                    partial_y_train,\n",
    "                    epochs=20,\n",
    "                    batch_size=512,\n",
    "                    validation_data=(x_val, y_val))"
   ]
  },
  {
   "cell_type": "code",
   "execution_count": 18,
   "metadata": {},
   "outputs": [
    {
     "data": {
      "image/png": "[encoded data removed]",
      "text/plain": [
       "<Figure size 432x288 with 1 Axes>"
      ]
     },
     "metadata": {
      "needs_background": "light"
     },
     "output_type": "display_data"
    }
   ],
   "source": [
    "# 結果の確認\n",
    "plt.clf()\n",
    "acc = history.history['acc']\n",
    "val_acc = history.history['val_acc']\n",
    "loss = history.history['loss']\n",
    "val_loss = history.history['val_loss']\n",
    "\n",
    "epochs = range(1, len(acc) + 1)\n",
    "\n",
    "# \"bo\" is for \"blue dot\"\n",
    "plt.plot(epochs, loss, 'bo', label='Training loss')\n",
    "# b is for \"solid blue line\"\n",
    "plt.plot(epochs, val_loss, 'b', label='Validation loss')\n",
    "plt.title('Training and validation loss')\n",
    "plt.xlabel('Epochs')\n",
    "plt.ylabel('Loss')\n",
    "plt.legend()\n",
    "\n",
    "plt.show()"
   ]
  },
  {
   "cell_type": "code",
   "execution_count": null,
   "metadata": {},
   "outputs": [],
   "source": []
  }
 ],
 "metadata": {
  "kernelspec": {
   "display_name": "Python 3.7.5 64-bit ('alphago': conda)",
   "language": "python",
   "name": "python37564bitalphagocondab5db145d4df74371a4045b800489042b"
  },
  "language_info": {
   "codemirror_mode": {
    "name": "ipython",
    "version": 3
   },
   "file_extension": ".py",
   "mimetype": "text/x-python",
   "name": "python",
   "nbconvert_exporter": "python",
   "pygments_lexer": "ipython3",
   "version": "3.7.5"
  }
 },
 "nbformat": 4,
 "nbformat_minor": 2
}
